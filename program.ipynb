{
 "cells": [
  {
   "cell_type": "code",
   "execution_count": 6,
   "metadata": {},
   "outputs": [],
   "source": [
    "#imports\n",
    "import requests\n",
    "import pandas as pd"
   ]
  },
  {
   "cell_type": "code",
   "execution_count": 7,
   "metadata": {},
   "outputs": [],
   "source": [
    "#API url\n",
    "url = 'https://dummyjson.com/products'"
   ]
  },
  {
   "cell_type": "code",
   "execution_count": 8,
   "metadata": {},
   "outputs": [],
   "source": [
    "#current file\n",
    "excel ='example.xlsx'"
   ]
  },
  {
   "cell_type": "code",
   "execution_count": 9,
   "metadata": {},
   "outputs": [],
   "source": [
    "#retrieve data\n",
    "response = requests.get(url)"
   ]
  },
  {
   "cell_type": "code",
   "execution_count": 10,
   "metadata": {},
   "outputs": [
    {
     "name": "stdout",
     "output_type": "stream",
     "text": [
      "data added to example.xlsx\n"
     ]
    }
   ],
   "source": [
    "#Check if the request succedeed and write data\n",
    "if response.status_code == 200 :\n",
    "    data = response.json()\n",
    "\n",
    "    raw_data = pd.DataFrame(data.get('products'))\n",
    "    products = raw_data.drop(['id','description','stock','tags','sku','weight','dimensions','availabilityStatus','reviews','minimumOrderQuantity','meta','images','thumbnail'], axis=1)\n",
    "\n",
    "    products.to_excel(excel,index=False)\n",
    "\n",
    "    print(f'data added to {excel}')\n",
    "else:\n",
    "    print(f'failed to retrieve data API responded: {response.status_code}')"
   ]
  }
 ],
 "metadata": {
  "kernelspec": {
   "display_name": "Python 3",
   "language": "python",
   "name": "python3"
  },
  "language_info": {
   "codemirror_mode": {
    "name": "ipython",
    "version": 3
   },
   "file_extension": ".py",
   "mimetype": "text/x-python",
   "name": "python",
   "nbconvert_exporter": "python",
   "pygments_lexer": "ipython3",
   "version": "3.10.14"
  }
 },
 "nbformat": 4,
 "nbformat_minor": 2
}
